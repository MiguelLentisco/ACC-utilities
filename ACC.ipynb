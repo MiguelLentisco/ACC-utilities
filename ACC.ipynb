{
 "cells": [
  {
   "cell_type": "code",
   "execution_count": 5,
   "metadata": {},
   "outputs": [],
   "source": [
    "import copy\n",
    "import itertools"
   ]
  },
  {
   "cell_type": "markdown",
   "metadata": {},
   "source": [
    "# TEMA 3"
   ]
  },
  {
   "cell_type": "markdown",
   "metadata": {},
   "source": [
    "## Utilidades"
   ]
  },
  {
   "cell_type": "code",
   "execution_count": 6,
   "metadata": {},
   "outputs": [],
   "source": [
    "# Devuelve el exponente lider del polinomio f\n",
    "def exp(f):\n",
    "    return f.exponents()[0]"
   ]
  },
  {
   "cell_type": "code",
   "execution_count": 7,
   "metadata": {},
   "outputs": [],
   "source": [
    "# Devuelve el maximo en cada posición de alpha y beta\n",
    "def lcm(alpha, beta):\n",
    "    return alpha.emax(beta)"
   ]
  },
  {
   "cell_type": "code",
   "execution_count": 8,
   "metadata": {},
   "outputs": [],
   "source": [
    "# Calcula el S-polinomio de f y g en R\n",
    "def S(R, f, g):\n",
    "    alpha = exp(f)\n",
    "    beta = exp(g)\n",
    "    gamma = lcm(alpha, beta)\n",
    "    delta1 = gamma.esub(alpha)\n",
    "    delta2 = gamma.esub(beta)\n",
    "    return g.lc() * R.monomial(*delta1) * f - f.lc() * R.monomial(*delta2) * g"
   ]
  },
  {
   "cell_type": "markdown",
   "metadata": {},
   "source": [
    "## Algoritmo de división\n"
   ]
  },
  {
   "cell_type": "code",
   "execution_count": 9,
   "metadata": {},
   "outputs": [],
   "source": [
    "# Divide f entre F en R, devuelve los coef y el resto\n",
    "def division(R, f, F):\n",
    "    # Polinomio actual\n",
    "    p = copy.deepcopy(f)\n",
    "    # Resto\n",
    "    r = 0\n",
    "    # Nº de polinomios\n",
    "    s = len(F)\n",
    "    # Coeficientes (q_i)\n",
    "    Q = []\n",
    "    for i in range(s):\n",
    "        Q.append(0)\n",
    "    # Hasta que p sea 0\n",
    "    while p != 0:\n",
    "        i = 0\n",
    "        step = 0\n",
    "        # Si se puede dividir por algun f_i\n",
    "        while i < s and step == 0:\n",
    "            # Calculamos gamma (exp(p) = exp(f_i) + gamma)\n",
    "            gamma = exp(p).esub(exp(F[i]))\n",
    "            # Gamma debe tener todas las posiciones no negativas\n",
    "            if all(map(lambda x : x >= 0, gamma)):\n",
    "                # Coef\n",
    "                coef = p.lc() / F[i].lc()\n",
    "                # Actualizamos q_i y p\n",
    "                Q[i] += coef * R.monomial(*gamma)\n",
    "                p -= coef * R.monomial(*gamma) * F[i]\n",
    "                step = 1\n",
    "            else:\n",
    "                i += 1\n",
    "        # Si no es divisible entre ningun f_i añadimos al resto\n",
    "        if step == 0:\n",
    "            r += p.lt()\n",
    "            p -= p.lt()\n",
    "    return r, Q"
   ]
  },
  {
   "cell_type": "markdown",
   "metadata": {},
   "source": [
    "Ejemplo:"
   ]
  },
  {
   "cell_type": "code",
   "execution_count": 10,
   "metadata": {},
   "outputs": [
    {
     "name": "stdout",
     "output_type": "stream",
     "text": [
      "(2*x + 1, [x + 1, x])\n",
      "(x + y + 1, [x + y, 1])\n"
     ]
    }
   ],
   "source": [
    "R.<x,y> = PolynomialRing(QQ, [\"x\", \"y\"], order = \"lex\")\n",
    "f = x^2*y+x*y^2+y^2\n",
    "f1 = x*y-1\n",
    "f2 = y^2-1\n",
    "print(division(R, f, [f2, f1]))\n",
    "print(division(R, f, [f1, f2]))"
   ]
  },
  {
   "cell_type": "markdown",
   "metadata": {},
   "source": [
    "## Criterio de Buchberger (comprobar base)"
   ]
  },
  {
   "cell_type": "code",
   "execution_count": 11,
   "metadata": {},
   "outputs": [],
   "source": [
    "# Comprueba si el conjunto de generadores G es base de Groebner en R\n",
    "def criterio_buchberger(R, G):\n",
    "    t = len(G)\n",
    "    for i in range(t):\n",
    "        for j in range(i + 1, t):\n",
    "            # G base de Groebner sii rem(S(g_i, g_j), G) = 0\n",
    "            r, Q = division(R, S(R, G[i], G[j]), G)\n",
    "            if r != 0:\n",
    "                return false\n",
    "    return true"
   ]
  },
  {
   "cell_type": "code",
   "execution_count": 12,
   "metadata": {},
   "outputs": [
    {
     "name": "stdout",
     "output_type": "stream",
     "text": [
      "True\n",
      "False\n"
     ]
    }
   ],
   "source": [
    "R.<x,y,z> = PolynomialRing(QQ, [\"x\", \"y\", \"z\"], order = \"lex\")\n",
    "I = R.ideal([x*y^2 + x*y, y^5, y*z^4, x^2*y*z])\n",
    "print(criterio_buchberger(R, I.groebner_basis()))\n",
    "print(criterio_buchberger(R, [x*y^2 + x*y, y^5, y*z^4, x^2*y*z]))"
   ]
  },
  {
   "cell_type": "markdown",
   "metadata": {},
   "source": [
    "## Algoritmo de Buchberger (obtener base de Groebner)"
   ]
  },
  {
   "cell_type": "code",
   "execution_count": 13,
   "metadata": {},
   "outputs": [],
   "source": [
    "# Calcula una basa de Groebner para el ideal generado por F en R\n",
    "# NO recomendable para F grandes\n",
    "def algoritmo_buchberger(R, F):\n",
    "    G = copy.deepcopy(F)\n",
    "    while true:\n",
    "        G_prime = copy.deepcopy(G)\n",
    "        for i in range(len(G_prime)):\n",
    "            for j in range(len(G_prime)):\n",
    "                if i != j:\n",
    "                    r, _ = division(R, S(R, G_prime[i], G_prime[j]), G_prime)\n",
    "                    if r != 0:\n",
    "                        G = G + [r]\n",
    "        if G_prime == G:\n",
    "            break\n",
    "    return G    "
   ]
  },
  {
   "cell_type": "code",
   "execution_count": 14,
   "metadata": {},
   "outputs": [
    {
     "name": "stdout",
     "output_type": "stream",
     "text": [
      "True\n"
     ]
    }
   ],
   "source": [
    "R.<x,y> = PolynomialRing(QQ, [\"x\", \"y\"], order = \"lex\")\n",
    "F = [x^2*y - 1, x*y^2 - x]\n",
    "B = algoritmo_buchberger(R,F)\n",
    "print(criterio_buchberger(R, B))"
   ]
  },
  {
   "cell_type": "markdown",
   "metadata": {},
   "source": [
    "## Base de Groebner reducida"
   ]
  },
  {
   "cell_type": "code",
   "execution_count": 15,
   "metadata": {},
   "outputs": [],
   "source": [
    "# Reduce la base de Groebner G en R\n",
    "def groebner_reducida(R, B):\n",
    "    G = copy.deepcopy(B)\n",
    "    i = 0\n",
    "    for _ in range(len(G)):\n",
    "        # rem(g, [G \\ {g}])\n",
    "        r, Q = division(R, G[i], G[:i] + G[i+1:])\n",
    "        # Si r != 0, lo añadimos\n",
    "        if r != 0:\n",
    "            # lc(r) = 1\n",
    "            r /= r.lc()\n",
    "            G =  G[:i] + [r] + G[i+1:]\n",
    "            i += 1\n",
    "        # Si r == 0, lo descartamos\n",
    "        else:\n",
    "            G = G[:i] + G[i+1:]\n",
    "    return G"
   ]
  },
  {
   "cell_type": "code",
   "execution_count": 16,
   "metadata": {},
   "outputs": [
    {
     "name": "stdout",
     "output_type": "stream",
     "text": [
      "[x^2 - y, y^2 - 1]\n",
      "[x^2 - y, y^2 - 1]\n"
     ]
    }
   ],
   "source": [
    "R.<x,y,z> = PolynomialRing(QQ, [\"x\", \"y\", \"z\"], order = \"lex\")\n",
    "F = [x^2*y - 1, x*y^2 - x]\n",
    "B = algoritmo_buchberger(R,F)\n",
    "print(groebner_reducida(R,B))\n",
    "print(R.ideal(F).groebner_basis())"
   ]
  },
  {
   "cell_type": "code",
   "execution_count": 17,
   "metadata": {},
   "outputs": [
    {
     "name": "stdout",
     "output_type": "stream",
     "text": [
      "[x - 2*y + 2*w, z + 3*w]\n",
      "[x - 2*y + 2*w, z + 3*w]\n"
     ]
    }
   ],
   "source": [
    "R.<x,y,z,w> = PolynomialRing(QQ, [\"x\", \"y\", \"z\", \"w\"], order = \"lex\")\n",
    "F = [3*x-6*y-2*z, 2*x-4*y+4*w, x-2*y-z-w]\n",
    "B = algoritmo_buchberger(R,F)\n",
    "print(groebner_reducida(R, B))\n",
    "print(R.ideal(F).groebner_basis())"
   ]
  },
  {
   "cell_type": "markdown",
   "metadata": {},
   "source": [
    "## Base de Groebner reducida"
   ]
  },
  {
   "cell_type": "code",
   "execution_count": 18,
   "metadata": {},
   "outputs": [],
   "source": [
    "# Devuelve la base de groebner reducida de un ideal generado por F\n",
    "def groebner_base(R, F):\n",
    "    # Obtenemos base de Groebner\n",
    "    B = algoritmo_buchberger(R, F)\n",
    "    # La reducimos\n",
    "    return groebner_reducida(R, B)"
   ]
  },
  {
   "cell_type": "code",
   "execution_count": 19,
   "metadata": {},
   "outputs": [
    {
     "name": "stdout",
     "output_type": "stream",
     "text": [
      "[y^2 - 1, x - y]\n"
     ]
    }
   ],
   "source": [
    "R.<x,y> = PolynomialRing(QQ, [\"x\", \"y\"], order = \"lex\")\n",
    "f1 = x*y-1\n",
    "f2 = y^2-1\n",
    "B = groebner_base(R, [f1, f2])\n",
    "print(B)"
   ]
  },
  {
   "cell_type": "markdown",
   "metadata": {},
   "source": [
    "## Comprobar si un polinomio pertenece a un ideal"
   ]
  },
  {
   "cell_type": "code",
   "execution_count": 20,
   "metadata": {},
   "outputs": [],
   "source": [
    "# Si un polinomio f pertenece a un ideal generado por F en R\n",
    "def check_in_ideal(R, f, F):\n",
    "    # Otras alternativas\n",
    "    # -------------------\n",
    "    # I = R * F\n",
    "    # f in I\n",
    "    # I.reduce(f) == 0\n",
    "    # B = I.groebner_basis()\n",
    "    # -------------------\n",
    "    # Base de groebner\n",
    "    if 1 in F: return True\n",
    "    B = R.ideal(F).groebner_basis()\n",
    "    # Pertenece si el resto es 0\n",
    "    r, _ = division(R, f, B)\n",
    "    return r == 0"
   ]
  },
  {
   "cell_type": "code",
   "execution_count": 21,
   "metadata": {},
   "outputs": [
    {
     "name": "stdout",
     "output_type": "stream",
     "text": [
      "False\n",
      "True\n"
     ]
    }
   ],
   "source": [
    "R.<x,y> = PolynomialRing(QQ, [\"x\", \"y\"], order = \"lex\")\n",
    "f = x^2*y^2 + x^2*y - y + 1\n",
    "F = [x*y^2 + x, x*y-y^3]\n",
    "print(check_in_ideal(R, f, F))\n",
    "print(check_in_ideal(R, (F*R).groebner_basis()[0], F))"
   ]
  },
  {
   "cell_type": "markdown",
   "metadata": {},
   "source": [
    "## Ej 3.2\n"
   ]
  },
  {
   "cell_type": "code",
   "execution_count": 22,
   "metadata": {},
   "outputs": [],
   "source": [
    "def ej3_2(ring, order, reverse):\n",
    "    R.<x,y,z> = PolynomialRing(ring, [\"x\", \"y\", \"z\"], order=\"deglex\")\n",
    "    f = x^7*y^2 + x^3*y^2-y+1\n",
    "    f1 = x*y^2-x\n",
    "    f2 = x-y^3\n",
    "    F = [f1, f2]\n",
    "    if reverse:\n",
    "        F = [f2, f1]\n",
    "    print(division(R, f, F))"
   ]
  },
  {
   "cell_type": "code",
   "execution_count": 23,
   "metadata": {},
   "outputs": [
    {
     "name": "stdout",
     "output_type": "stream",
     "text": [
      "(x^7 + x^3 - y + 1, [x^6 + x^2, 0])\n",
      "(x^7 + x^3 - y + 1, [x^6 + x^2, 0])\n",
      "(x^7 + x^3 - y + 1, [0, x^6 + x^2])\n",
      "(x^7 + x^3 - y + 1, [0, x^6 + x^2])\n",
      "(x^7 + x^3 + y + 1, [x^6 + x^2, 0])\n",
      "(x^7 + x^3 - y + 1, [x^6 + x^2, 0])\n",
      "(x^7 + x^3 + y + 1, [x^6 + x^2, 0])\n",
      "(x^7 + x^3 - y + 1, [x^6 + x^2, 0])\n"
     ]
    }
   ],
   "source": [
    "ej3_2(QQ, \"deglex\", false)\n",
    "ej3_2(QQ, \"lex\", false)\n",
    "ej3_2(QQ, \"deglex\", true)\n",
    "ej3_2(QQ, \"lex\", true)\n",
    "ej3_2(GF(2), \"deglex\", false)\n",
    "ej3_2(GF(3), \"deglex\", false)\n",
    "ej3_2(GF(4), \"deglex\", false)\n",
    "ej3_2(GF(5), \"deglex\", false)"
   ]
  },
  {
   "cell_type": "markdown",
   "metadata": {},
   "source": [
    "## Ej 3.4"
   ]
  },
  {
   "cell_type": "code",
   "execution_count": 24,
   "metadata": {},
   "outputs": [
    {
     "name": "stdout",
     "output_type": "stream",
     "text": [
      "('Resto: ', x^3 - x^2*z - z, ', coeficientes: ', [-1, 0])\n",
      "('Resto: ', x^3 - x^2*z - x, ', coeficientes: ', [-x, 0])\n",
      "True\n",
      "[x - z, y*z - 1]\n",
      "(x - z, [0, 0])\n"
     ]
    }
   ],
   "source": [
    "R.<x,y,z> = PolynomialRing(QQ, [\"x\", \"y\", \"z\"], order = \"degrevlex\")\n",
    "f = x^3-x^2*y-x^2*z\n",
    "f1 = x^2*y-z\n",
    "f2 = x*y-1\n",
    "r1, Q1 = division(R, f, [f1,f2])\n",
    "r2, Q2 = division(R, f, [f2,f1])\n",
    "print(\"Resto: \", r1, \", coeficientes: \", Q1)\n",
    "print(\"Resto: \", r2, \", coeficientes: \", Q2)\n",
    "r = r1 - r2\n",
    "print(check_in_ideal(R, r, [f1, f2]))\n",
    "print(groebner_base(R, [f1,f2]))\n",
    "print(division(R, r, [f1,f2]))"
   ]
  },
  {
   "cell_type": "markdown",
   "metadata": {},
   "source": [
    "# Tema 4"
   ]
  },
  {
   "cell_type": "markdown",
   "metadata": {},
   "source": [
    "## Intersección con anillo"
   ]
  },
  {
   "cell_type": "code",
   "execution_count": 25,
   "metadata": {},
   "outputs": [],
   "source": [
    "# Si R = F[x_(l+1), ..., x_n] calcula F interseccion R\n",
    "# No hacer si F es generador de ideal I, hacer con base Groebner\n",
    "def interseccion_reduccion(R, l, F):\n",
    "    assert l >= 0\n",
    "    interseccion = []\n",
    "    # Para cada polinomio de F\n",
    "    for f in F:\n",
    "        insertar = True\n",
    "        # Miramos en cada monomio de f\n",
    "        for exp in f.exponents():\n",
    "            # Miramos las posiciones de los exponentes > 0\n",
    "            for pos in exp.nonzero_positions():\n",
    "                # Si alguno está en F[x_1, ..., x_l] no lo añadimos\n",
    "                if pos <= (l-1):\n",
    "                    insertar = False\n",
    "                    break\n",
    "            # Cortamos antes\n",
    "            if not insertar:\n",
    "                break\n",
    "        # Insertamos\n",
    "        if insertar:\n",
    "            interseccion.append(copy.deepcopy(R(f)))\n",
    "    return interseccion"
   ]
  },
  {
   "cell_type": "code",
   "execution_count": 26,
   "metadata": {},
   "outputs": [],
   "source": [
    "# I interseccion R = F[x_(l+1), ..., x_n] siendo I un ideal\n",
    "def interseccion_reduccion_ideal(R, l, I):\n",
    "    assert l >= 0\n",
    "    F = I.gens()\n",
    "    if 1 in F: return [R(1)]\n",
    "    B = ideal(F).groebner_basis()\n",
    "    return interseccion_reduccion(R, l, B)"
   ]
  },
  {
   "cell_type": "code",
   "execution_count": 27,
   "metadata": {},
   "outputs": [
    {
     "name": "stdout",
     "output_type": "stream",
     "text": [
      "[y]\n",
      "[y]\n"
     ]
    }
   ],
   "source": [
    "R.<x,y> = PolynomialRing(QQ, 2, \"xy\", order = \"lex\")\n",
    "F = [x^2, y^3, y^4 + y, x*y + x^2, y]\n",
    "print(interseccion_reduccion(R, 1, ideal(F).groebner_basis()))\n",
    "print(interseccion_reduccion_ideal(R, 1, ideal(F)))"
   ]
  },
  {
   "cell_type": "code",
   "execution_count": 28,
   "metadata": {},
   "outputs": [
    {
     "name": "stdout",
     "output_type": "stream",
     "text": [
      "[y^7 - y^6 + y^3 + y]\n"
     ]
    }
   ],
   "source": [
    "R.<x,y> = PolynomialRing(GF(3), [\"x\", \"y\"], order = \"lex\")\n",
    "I = ideal(-x^2*y-y^3-x^2+x*y+y, x^2*y-y^3-x*y-y^2+y)\n",
    "print(interseccion_reduccion_ideal(R, 1, I))"
   ]
  },
  {
   "cell_type": "markdown",
   "metadata": {},
   "source": [
    "## Interseccion de ideales"
   ]
  },
  {
   "cell_type": "code",
   "execution_count": 29,
   "metadata": {},
   "outputs": [],
   "source": [
    "# Base de groebner de la interseccion de I = <F> con J = <G> \n",
    "# en R = F[x_1, ..., x_n]\n",
    "def ideal_interseccion(R, F, G, order):\n",
    "    # A = F[t, x_1, .., x_n]\n",
    "    _, base = R.construction()\n",
    "    A = PolynomialRing(base, [\"aux\"] + list(R.gens()), order = order)\n",
    "    t = A.gen(0)\n",
    "    # ideal(H) = <t*f_1, ..., t*f_s, (1-t)*g_1, ..., (1-t)*g_t>\n",
    "    H = []\n",
    "    for f in F:\n",
    "        H = H + [t * f]\n",
    "    for g in G:\n",
    "        H = H + [(1-t) * g]\n",
    "    # K\n",
    "    if 1 in H: return [1]\n",
    "    K = A.ideal(H)\n",
    "    # Interseccion G_H F[x_1, ..., x_n]\n",
    "    return interseccion_reduccion_ideal(R, 1, K)"
   ]
  },
  {
   "cell_type": "code",
   "execution_count": 30,
   "metadata": {},
   "outputs": [
    {
     "name": "stdout",
     "output_type": "stream",
     "text": [
      "[x^2 - y^5 - y^3, x*y^2 - y^5, y^7 + y^6 - y^5]\n"
     ]
    }
   ],
   "source": [
    "R.<t,x,y> = PolynomialRing(GF(3), [\"t\",\"x\", \"y\"], order = \"lex\")\n",
    "F = [-x^3-x*y^2, -x*y^2-y^3+x^2]\n",
    "G = [y^2-x+y+1, x^2+x*y+y^2+x, x*y-y^2-y]\n",
    "print(ideal_interseccion(R, F, G, \"lex\"))"
   ]
  },
  {
   "cell_type": "markdown",
   "metadata": {},
   "source": [
    "## Implicitación polinomial (infinito)"
   ]
  },
  {
   "cell_type": "code",
   "execution_count": 31,
   "metadata": {},
   "outputs": [],
   "source": [
    "# R = F[t_1, ..., t_r] cuerpo infinito, phi(a) = (F(a)), F = (f1,...,f_n)\n",
    "# devuelve J con V(J) la menor variedad que contiene a phi(F^r)\n",
    "def implicitacion_polinomial(R, F, order):\n",
    "    _, base = R.construction()\n",
    "    n_vars = [\"x\" + str(i+1) for i in range(len(F))]\n",
    "    # A = F[t_1, ..., t_r, x_1, ..., x_n]\n",
    "    A = PolynomialRing(base, list(R.gens()) + n_vars, order = order)\n",
    "    # I = <x_1 - f_1, ..., x_n - f_n>\n",
    "    I = A.ideal([x_i - f_i for (x_i, f_i) \n",
    "               in zip(A.gens()[len(R.gens()):], F)])\n",
    "    return interseccion_reduccion_ideal(A, len(R.gens()), I)"
   ]
  },
  {
   "cell_type": "code",
   "execution_count": 32,
   "metadata": {
    "scrolled": true
   },
   "outputs": [
    {
     "name": "stdout",
     "output_type": "stream",
     "text": [
      "[x1^4 + 3*x1^3 - 2*x1^2*x2^2 + 8*x1^2*x2 + 8*x1^2*x3^2 - 28*x1^2*x3 + 14*x1^2 - x1*x2^2 - 16*x1*x2*x3 + 22*x1*x2 + 12*x1*x3^2 - 26*x1*x3 + 5*x1 + x2^4 - 10*x2^3 - 8*x2^2*x3^2 + 44*x2^2*x3 - 64*x2*x3^2 + 10*x2*x3 + 16*x3^4 + 16*x3^3 - 5*x3^2]\n"
     ]
    }
   ],
   "source": [
    "R.<u,v> = PolynomialRing(QQ, [\"u\", \"v\"], order = \"lex\")\n",
    "F = [u^2-v^2, u^2+v^2+v, -u*v+u+v]\n",
    "print(implicitacion_polinomial(R, F, \"lex\"))"
   ]
  },
  {
   "cell_type": "markdown",
   "metadata": {},
   "source": [
    "## Implicitación racional (infinito)"
   ]
  },
  {
   "cell_type": "code",
   "execution_count": 33,
   "metadata": {},
   "outputs": [],
   "source": [
    "# R = F[t_1, ..., t_r] cuerpo infinito, phi(a) = (F(a)), \n",
    "# F = (f1/q_1,...,f_n/q_n) devuelve J con V(J) \n",
    "# la menor variedad que contiene a phi(F^r)\n",
    "def implicitacion_racional(R, F, Q, order):\n",
    "    _, base = R.construction()\n",
    "    n_vars = [\"x\" + str(i+1) for i in range(len(F))]\n",
    "    # A = F_q[y, t_1, ..., t_r, x_1, ..., x_n]\n",
    "    A = PolynomialRing(base, [\"aux\"] + list(R.gens()) + n_vars, \n",
    "                        order = order)\n",
    "    # I = <q1 * x_1 - f_1, ..., q_n * x_n - f_n, 1 - q_1 * ... q_n * y>\n",
    "    G = [q_i * x_i - f_i for (q_i, x_i, f_i) in \n",
    "         zip(Q, A.gens()[1+len(R.gens()):], F)]\n",
    "    f_aux = A.gens()[0]\n",
    "    for q_i in Q:\n",
    "        f_aux *= q_i\n",
    "    G = G + [1 - f_aux]\n",
    "    # Interseccion\n",
    "    return interseccion_reduccion_ideal(A, len(R.gens()) + 1, A.ideal(G))"
   ]
  },
  {
   "cell_type": "code",
   "execution_count": 34,
   "metadata": {},
   "outputs": [
    {
     "name": "stdout",
     "output_type": "stream",
     "text": [
      "[x1^2 + x2^2 - 1]\n"
     ]
    }
   ],
   "source": [
    "R.<t> = PolynomialRing(QQ, [\"t\"], order = \"lex\")\n",
    "F = [1 - t^2, 2*t]\n",
    "Q = [1+t^2, 1+t^2]\n",
    "print(implicitacion_racional(R, F, Q, \"lex\"))"
   ]
  },
  {
   "cell_type": "code",
   "execution_count": 35,
   "metadata": {},
   "outputs": [
    {
     "name": "stdout",
     "output_type": "stream",
     "text": [
      "[x1^3 + x1*x2^2 - 2*x2^2]\n"
     ]
    }
   ],
   "source": [
    "# Parcial 2 - 2\n",
    "R.<t> = PolynomialRing(QQ, [\"t\"], order = \"lex\")\n",
    "F = [2*t^2, 2*t^3]\n",
    "Q = [1 + t^2, 1 + t^2]\n",
    "print(implicitacion_racional(R, F, Q, \"lex\"))"
   ]
  },
  {
   "cell_type": "markdown",
   "metadata": {},
   "source": [
    "## Implicitacion polinomial (finito)"
   ]
  },
  {
   "cell_type": "code",
   "execution_count": 36,
   "metadata": {},
   "outputs": [],
   "source": [
    "# R = F_q[t_1, ..., t_r] cuerpo finito, phi(a) = (F(a)), F = (f1,...,f_n)\n",
    "# devuelve J con V(J) la menor variedad que contiene a phi(F^r_q)\n",
    "def implicitacion_polinomial_finito(R, F, order):\n",
    "    _, base = R.construction()\n",
    "    q = base.cardinality()\n",
    "    n_vars = [\"x\" + str(i+1) for i in range(len(F))]\n",
    "    # A = F[t_1, ..., t_r, x_1, ..., x_n]\n",
    "    A = PolynomialRing(base, list(R.gens()) + n_vars, order = order)\n",
    "    # I = <x_1 - f_1, ..., x_n - f_n>\n",
    "    G = [x_i - f_i for (x_i, f_i) in zip(A.gens()[len(R.gens()):], F)]\n",
    "    G += [x_i^q]\n",
    "    return interseccion_reduccion_ideal(A, len(R.gens()), A.ideal(G))"
   ]
  },
  {
   "cell_type": "code",
   "execution_count": 37,
   "metadata": {},
   "outputs": [
    {
     "name": "stdout",
     "output_type": "stream",
     "text": [
      "[x1 - x2^2 - x2 - 1, x2^3]\n"
     ]
    }
   ],
   "source": [
    "R.<t> = PolynomialRing(GF(3), [\"t\"], order = \"lex\")\n",
    "F = [t^2, t+1]\n",
    "print(implicitacion_polinomial_finito(R, F, \"lex\"))"
   ]
  },
  {
   "cell_type": "markdown",
   "metadata": {},
   "source": [
    "# Tema 5"
   ]
  },
  {
   "cell_type": "markdown",
   "metadata": {},
   "source": [
    "## Polinomio en radical"
   ]
  },
  {
   "cell_type": "code",
   "execution_count": 38,
   "metadata": {},
   "outputs": [],
   "source": [
    "# Si el polinomio f pertenece al radical generado por F en R\n",
    "def polinomio_en_radical(R, f, F, order):\n",
    "    _, base = R.construction()\n",
    "    # A = F[x_1, ..., x_n, y]\n",
    "    A = PolynomialRing(base, list(R.gens()) + [\"aux\"], order = order)\n",
    "    # J = <I> + <1 - f*y>\n",
    "    J = A.ideal(F + [1 - f * A.gen(len(R.gens()))])\n",
    "    # Si 1 en B => J = A\n",
    "    if 1 in J.gens(): return True\n",
    "    B = J.groebner_basis()\n",
    "    return 1 in B"
   ]
  },
  {
   "cell_type": "code",
   "execution_count": 39,
   "metadata": {},
   "outputs": [
    {
     "name": "stdout",
     "output_type": "stream",
     "text": [
      "True\n",
      "(3, x^3 + 3*x^2*y + 3*x*y^2 + y^3)\n",
      "False\n"
     ]
    }
   ],
   "source": [
    "R.<x,y,z> = PolynomialRing(QQ, [\"x\", \"y\", \"z\"], order = \"lex\")\n",
    "F = [x^3, y^3, x*y*(x+y)]\n",
    "f = x+y\n",
    "print(polinomio_en_radical(R, f, F, \"lex\"))\n",
    "i = 0\n",
    "while true:\n",
    "    if check_in_ideal(R, f^i, F):\n",
    "        print(i, f^i)\n",
    "        break\n",
    "    i += 1\n",
    "J = [x+z, x^2*y, x-z^2]\n",
    "g = x^2+3*x*z\n",
    "print(polinomio_en_radical(R, g, J, \"lex\"))"
   ]
  },
  {
   "cell_type": "code",
   "execution_count": 40,
   "metadata": {},
   "outputs": [
    {
     "name": "stdout",
     "output_type": "stream",
     "text": [
      "True\n",
      "False\n"
     ]
    }
   ],
   "source": [
    "# Parcial 2 - Ejercicio 4\n",
    "R.<x,y,z> = PolynomialRing(QQ, 3, \"xyz\", order = \"lex\")\n",
    "f1 = x^2-y*z\n",
    "f2 = y^2-x*y*z\n",
    "F = [f1^2, f1*f2, f2^2]\n",
    "G = [f1, f2]\n",
    "f = y*z^2-x*y\n",
    "print(polinomio_en_radical(R, f, F, \"lex\"))\n",
    "print(check_in_ideal(R, f, G))"
   ]
  },
  {
   "cell_type": "markdown",
   "metadata": {},
   "source": [
    "## Cociente"
   ]
  },
  {
   "cell_type": "code",
   "execution_count": 41,
   "metadata": {},
   "outputs": [],
   "source": [
    "# Calcula base de Groebner del cociente I : f con I = <F> en R\n",
    "def cociente_ideal_polinomio(R, F, f, order):\n",
    "    # I interseccion <g> = <h_1, ..., h_s>\n",
    "    H = ideal_interseccion(R, F, [f], order)\n",
    "    K = [h_i / f for h_i in H]\n",
    "    if 1 in K: return [1]\n",
    "    return R.ideal(K).groebner_basis()"
   ]
  },
  {
   "cell_type": "code",
   "execution_count": 42,
   "metadata": {},
   "outputs": [
    {
     "name": "stdout",
     "output_type": "stream",
     "text": [
      "[x^2 + 2*x*y + y^2]\n"
     ]
    }
   ],
   "source": [
    "R.<x,y,z> = PolynomialRing(QQ, [\"x\", \"y\", \"z\"], order = \"lex\")\n",
    "F = [(x+y)^2*(x-y)*(x+z^2)]\n",
    "g = (x+z^2)^3*(x-y)*(z+y)\n",
    "print(cociente_ideal_polinomio(R, F, g, \"lex\"))"
   ]
  },
  {
   "cell_type": "code",
   "execution_count": 43,
   "metadata": {},
   "outputs": [],
   "source": [
    "# Calcula generadores del cociente I : J con I = <F> en R\n",
    "def cociente_ideales(R, F, G, order):\n",
    "    cocientes = [cociente_ideal_polinomio(R, F, g, order) for g in G]\n",
    "    res = copy.deepcopy(cocientes[0])\n",
    "    for cociente in cocientes[1:]:\n",
    "        res = ideal_interseccion(R, res, cociente, order)\n",
    "    return res"
   ]
  },
  {
   "cell_type": "code",
   "execution_count": 44,
   "metadata": {},
   "outputs": [
    {
     "name": "stdout",
     "output_type": "stream",
     "text": [
      "[x]\n",
      "[x]\n"
     ]
    }
   ],
   "source": [
    "# Parcial 2 - Ejercicio 3\n",
    "R.<x,y> = PolynomialRing(GF(5), [\"x\", \"y\"], order = \"lex\")\n",
    "F = [x^2+x*y]\n",
    "G = [x+y, y^2-x^2]\n",
    "print(cociente_ideales(R, F, G, \"lex\"))\n",
    "G_b = R.ideal(G).groebner_basis()\n",
    "print(cociente_ideales(R, F, G_b, \"lex\"))"
   ]
  },
  {
   "cell_type": "markdown",
   "metadata": {},
   "source": [
    "## Saturación"
   ]
  },
  {
   "cell_type": "code",
   "execution_count": 45,
   "metadata": {},
   "outputs": [],
   "source": [
    "def saturacion_ideal_polinomio(R, F, f, order):\n",
    "    _, base = R.construction()\n",
    "    # A = F[y, x_1, ..., x_n]\n",
    "    A = PolynomialRing(base, [\"aux\"] + list(R.gens()), order = order)\n",
    "    aux = A.gen(len(R.gens()))\n",
    "    # I_tilde = I + <1 - y * g>\n",
    "    F_tilde = F + [1-aux*f]\n",
    "    if 1 in F_tilde: return [1]\n",
    "    return interseccion_reduccion_ideal(A, 1, A.ideal(F_tilde))"
   ]
  },
  {
   "cell_type": "code",
   "execution_count": 46,
   "metadata": {},
   "outputs": [],
   "source": [
    "# Calcula generadores de la saturacion I : J^inf con I = <F> en R\n",
    "def saturacion_ideales(R, F, G, order):\n",
    "    saturaciones = [saturacion_ideal_polinomio(R, F, g, order) for g in G]\n",
    "    res = copy.deepcopy(saturaciones[0])\n",
    "    for saturacion in saturaciones[1:]:\n",
    "        res = ideal_interseccion(R, res, saturacion, order)\n",
    "    return res"
   ]
  },
  {
   "cell_type": "code",
   "execution_count": 47,
   "metadata": {},
   "outputs": [
    {
     "name": "stdout",
     "output_type": "stream",
     "text": [
      "[x, y^4 + y^3 - y - 1]\n"
     ]
    }
   ],
   "source": [
    "R.<x,y> = PolynomialRing(GF(5), [\"x\", \"y\"], order = \"lex\")\n",
    "F = [x^2+x*y]\n",
    "G = [x+y, y^2-x^2]\n",
    "print(saturacion_ideales(R, F, G, \"lex\"))"
   ]
  },
  {
   "cell_type": "markdown",
   "metadata": {},
   "source": [
    "# Tema 6"
   ]
  },
  {
   "cell_type": "markdown",
   "metadata": {},
   "source": [
    "## Utilidades"
   ]
  },
  {
   "cell_type": "code",
   "execution_count": 48,
   "metadata": {},
   "outputs": [],
   "source": [
    "# Conjunto exp de una lista de polinomios F\n",
    "def exp(F):\n",
    "    s = []\n",
    "    for f in F:\n",
    "        s = s + [f.exponents()[0]]\n",
    "    return list(set(s))"
   ]
  },
  {
   "cell_type": "code",
   "execution_count": 49,
   "metadata": {},
   "outputs": [
    {
     "name": "stdout",
     "output_type": "stream",
     "text": [
      "[(1, 2), (4, 0)]\n"
     ]
    }
   ],
   "source": [
    "R.<x,y> = PolynomialRing(QQ, 2, \"xy\", order = \"lex\")\n",
    "F = [x*y^2 + 3*y, x^4 + y^3 - x^2*y^2 + 3*y + x*y^2]\n",
    "print(exp(F))"
   ]
  },
  {
   "cell_type": "code",
   "execution_count": 50,
   "metadata": {},
   "outputs": [],
   "source": [
    "# Calcula top_m(alpha)\n",
    "def top(m, alpha):\n",
    "    return [i+1 for i in range(0, len(alpha)) if alpha[i] >= m]"
   ]
  },
  {
   "cell_type": "code",
   "execution_count": 51,
   "metadata": {},
   "outputs": [
    {
     "name": "stdout",
     "output_type": "stream",
     "text": [
      "[1]\n"
     ]
    }
   ],
   "source": [
    "print(top(3, (4,2,1)))"
   ]
  },
  {
   "cell_type": "code",
   "execution_count": 52,
   "metadata": {},
   "outputs": [],
   "source": [
    "# Calcula sh_m(alpha)\n",
    "def sh(m, alpha):\n",
    "    ind = top(m, alpha)\n",
    "    return [m if i+1 in ind else alpha[i] for i in range(0, len(alpha))]"
   ]
  },
  {
   "cell_type": "code",
   "execution_count": 53,
   "metadata": {},
   "outputs": [
    {
     "name": "stdout",
     "output_type": "stream",
     "text": [
      "[3, 3, 1]\n"
     ]
    }
   ],
   "source": [
    "print(sh(3, (5, 4, 1)))"
   ]
  },
  {
   "cell_type": "code",
   "execution_count": 54,
   "metadata": {},
   "outputs": [],
   "source": [
    "# Calcula R_m\n",
    "def R_m(m, F, n):\n",
    "    if any(sh(m, alpha) not in F for alpha in F):\n",
    "        print(\"Error: no se cumple la condición\")\n",
    "        return None\n",
    "    return [f for f in F if all(f[i] <= m for i in range(0, n))]"
   ]
  },
  {
   "cell_type": "code",
   "execution_count": 55,
   "metadata": {},
   "outputs": [
    {
     "name": "stdout",
     "output_type": "stream",
     "text": [
      "[[2, 2, 1], [1, 2, 2]]\n"
     ]
    }
   ],
   "source": [
    "print(R_m(2, [[1, 2, 3], [2, 2, 1], [1,2,2]], 3))"
   ]
  },
  {
   "cell_type": "markdown",
   "metadata": {},
   "source": [
    "## Función T"
   ]
  },
  {
   "cell_type": "code",
   "execution_count": 56,
   "metadata": {},
   "outputs": [],
   "source": [
    "# Si un sigma pertenece a T(E) con E = X + N^n\n",
    "def check_supp(X, sigma):\n",
    "    return all(any(alpha[pos] != 0 for pos in sigma) for alpha in X)"
   ]
  },
  {
   "cell_type": "code",
   "execution_count": 57,
   "metadata": {},
   "outputs": [],
   "source": [
    "# Calcula T(E) con E ideal de N^n\n",
    "def T(E, n):\n",
    "    T_E = []\n",
    "    # Para cada combinación desde tamaño 1 hasta tamaño n\n",
    "    for k in range(0, n):\n",
    "        for sigma in itertools.combinations(range(0, n), k + 1):\n",
    "            # Si existe un sigma\n",
    "            if not E or check_supp(E, sigma):\n",
    "                T_E = T_E + [[x + 1 for x in sigma]]\n",
    "    return T_E"
   ]
  },
  {
   "cell_type": "code",
   "execution_count": 58,
   "metadata": {},
   "outputs": [
    {
     "name": "stdout",
     "output_type": "stream",
     "text": [
      "[[2], [3], [1, 2], [1, 3], [2, 3], [1, 2, 3]]\n",
      "[[1], [2], [3], [1, 2], [1, 3], [2, 3], [1, 2, 3]]\n",
      "[]\n"
     ]
    }
   ],
   "source": [
    "E = [(0, 1, 2), (2, 2, 1), (3, 3, 1), (0, 2, 1)]\n",
    "print(T(E, 3))\n",
    "print(T([], 3))\n",
    "print(T([(0, 0, 0), (1, 2, 3)], 3))"
   ]
  },
  {
   "cell_type": "code",
   "execution_count": 59,
   "metadata": {},
   "outputs": [],
   "source": [
    "# Calcula T(exp(I)) con exp(I) = exp(G) + N^n y I = <F>\n",
    "def T_I(R, F):\n",
    "    if 1 in F: return []\n",
    "    G = R.ideal(F).groebner_basis()\n",
    "    if 1 in G: return []\n",
    "    return T(exp(G), len(R.gens()))"
   ]
  },
  {
   "cell_type": "code",
   "execution_count": 60,
   "metadata": {},
   "outputs": [
    {
     "name": "stdout",
     "output_type": "stream",
     "text": [
      "[[1], [1, 2]]\n"
     ]
    }
   ],
   "source": [
    "R.<x,y> = PolynomialRing(QQ, 2, \"xy\", order = \"lex\")\n",
    "F = [x*y^2 + x, x^3*y]\n",
    "print(T_I(R, F))"
   ]
  },
  {
   "cell_type": "markdown",
   "metadata": {},
   "source": [
    "## Dimensión de un ideal"
   ]
  },
  {
   "cell_type": "code",
   "execution_count": 69,
   "metadata": {},
   "outputs": [],
   "source": [
    "# Si un ideal I = <F> calcula dim(exp(I)) en R\n",
    "def dim_ideal(R, F):\n",
    "    n = len(R.gens())\n",
    "    # Si I = R\n",
    "    if 1 in F: return 0\n",
    "    # Calculamos T(exp(B)) = T(exp(I))\n",
    "    B = R.ideal(F).groebner_basis()\n",
    "    # Si I = R o I = []\n",
    "    if 1 in B: return 0\n",
    "    if 0 in B: return n\n",
    "    # Conjunto de exponentes\n",
    "    X = exp(B)\n",
    "    # Para cada combinación desde tamaño 1 hasta tamaño n\n",
    "    for k in range(0, n):\n",
    "        for sigma in itertools.combinations(range(0, n), k + 1):\n",
    "            # Si existe un sigma\n",
    "            if check_supp(X, sigma):\n",
    "                return n - len(sigma)"
   ]
  },
  {
   "cell_type": "code",
   "execution_count": 73,
   "metadata": {},
   "outputs": [
    {
     "name": "stdout",
     "output_type": "stream",
     "text": [
      "0\n"
     ]
    }
   ],
   "source": [
    "R.<x,y> = PolynomialRing(QQ, 2, \"xy\", order = \"deglex\")\n",
    "F = [y*x^2, y^2*x^2 + x*y + 1]\n",
    "print(dim_ideal(R, F))"
   ]
  },
  {
   "cell_type": "markdown",
   "metadata": {},
   "source": [
    "## Grado del polinomio de Hilbert"
   ]
  },
  {
   "cell_type": "code",
   "execution_count": 63,
   "metadata": {},
   "outputs": [],
   "source": [
    "# Devuelve el grado del polinomio de Hilbert de un ideal I (sobre R/I)\n",
    "# R tiene que tener orden graduado!\n",
    "def grado_Hilbert(R, F):\n",
    "    # HF_{R/I}(s) = HF_{exp(I)}(s) = h(s) (s >= n*m)\n",
    "    # Y dim(exp(I)) = deg(h) luego deg(HF_{R/I}) = dim(exp(G))\n",
    "    return dim_ideal(R, F)"
   ]
  },
  {
   "cell_type": "code",
   "execution_count": 68,
   "metadata": {},
   "outputs": [
    {
     "name": "stdout",
     "output_type": "stream",
     "text": [
      "1\n"
     ]
    }
   ],
   "source": [
    "# Parcial 2 - Ejercicio 5\n",
    "R.<x,y,z,t> = PolynomialRing(QQ, 4, \"xyzt\", order = \"deglex\")\n",
    "F = [x^2-y*z+z*t, x^2+y^3-y*z*t, x*y*z-x^2*t+y^2*t^2]\n",
    "print(grado_Hilbert(R, F))"
   ]
  },
  {
   "cell_type": "code",
   "execution_count": 65,
   "metadata": {},
   "outputs": [],
   "source": [
    "# Minímo s0 donde coincide h(s) = HF_E(s)\n",
    "def min_s0(R, F):\n",
    "    n = len(R.gens())\n",
    "    if 1 in F: return 0\n",
    "    alphas = exp(R.ideal(F).groebner_basis())\n",
    "    return n * max([max(alpha) for alpha in alphas])"
   ]
  },
  {
   "cell_type": "code",
   "execution_count": 72,
   "metadata": {},
   "outputs": [
    {
     "name": "stdout",
     "output_type": "stream",
     "text": [
      "12\n"
     ]
    }
   ],
   "source": [
    "R.<x,y,z,t> = PolynomialRing(QQ, 4, \"xyzt\", order = \"deglex\")\n",
    "F = [x^2-y*z+z*t, x^2+y^3-y*z*t, x*y*z-x^2*t+y^2*t^2]\n",
    "print(min_s0(R, F))"
   ]
  },
  {
   "cell_type": "code",
   "execution_count": 71,
   "metadata": {},
   "outputs": [
    {
     "name": "stdout",
     "output_type": "stream",
     "text": [
      "[x^3*y, x*y^2]\n",
      "6\n"
     ]
    }
   ],
   "source": [
    "R.<x,y> = PolynomialRing(QQ, 2, \"xy\", order = \"deglex\")\n",
    "F = [x^3*y, x*y^2]\n",
    "print(R.ideal(F).groebner_basis())\n",
    "print(min_s0(R,F))"
   ]
  },
  {
   "cell_type": "code",
   "execution_count": null,
   "metadata": {},
   "outputs": [],
   "source": []
  }
 ],
 "metadata": {
  "kernelspec": {
   "display_name": "SageMath 8.9",
   "language": "sage",
   "name": "sagemath"
  },
  "language_info": {
   "codemirror_mode": {
    "name": "ipython",
    "version": 2
   },
   "file_extension": ".py",
   "mimetype": "text/x-python",
   "name": "python",
   "nbconvert_exporter": "python",
   "pygments_lexer": "ipython2",
   "version": "2.7.15"
  }
 },
 "nbformat": 4,
 "nbformat_minor": 2
}
